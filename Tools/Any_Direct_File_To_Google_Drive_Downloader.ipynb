{
  "nbformat": 4,
  "nbformat_minor": 0,
  "metadata": {
    "colab": {
      "provenance": [],
      "include_colab_link": true
    },
    "kernelspec": {
      "name": "python3",
      "display_name": "Python 3"
    },
    "language_info": {
      "name": "python"
    }
  },
  "cells": [
    {
      "cell_type": "markdown",
      "metadata": {
        "id": "view-in-github",
        "colab_type": "text"
      },
      "source": [
        "<a href=\"https://colab.research.google.com/github/kavidu-dilhara/Google-Drive-Tool/blob/main/Tools/Any_Direct_File_To_Google_Drive_Downloader.ipynb\" target=\"_parent\"><img src=\"https://colab.research.google.com/assets/colab-badge.svg\" alt=\"Open In Colab\"/></a>"
      ]
    },
    {
      "cell_type": "markdown",
      "source": [
        "# Any Direct File To Google Drive Downloader ⬇️"
      ],
      "metadata": {
        "id": "rjCJ7S_9AQGn"
      }
    },
    {
      "cell_type": "markdown",
      "source": [
        "**$\\color{red}{\\text{Important Note}}$:** Enter Only Direct File Link"
      ],
      "metadata": {
        "id": "2mulAi0R8p6A"
      }
    },
    {
      "cell_type": "code",
      "source": [
        "#@markdown Mount Google Drive ☁\n",
        "from google.colab import drive\n",
        "drive.mount('/content/drive')"
      ],
      "metadata": {
        "cellView": "form",
        "id": "nNWQMMk7ZCvR"
      },
      "execution_count": null,
      "outputs": []
    },
    {
      "cell_type": "code",
      "source": [
        "#@markdown  <b><h5>Download Singal URL File To Google Drive</h5></b>\n",
        "import os\n",
        "DOWNLOAD_URL = \"\" #@param {type:\"string\"}\n",
        "DOWNLOAD_PATH = \"/content/drive/\" #@param {type:\"string\"}\n",
        "os.chdir(DOWNLOAD_PATH)\n",
        "!wget -c $DOWNLOAD_URL  --no-check-certificate"
      ],
      "metadata": {
        "id": "3cQ3g8lNVRDg",
        "cellView": "form"
      },
      "execution_count": null,
      "outputs": []
    },
    {
      "cell_type": "markdown",
      "source": [
        "**$\\color{red}{\\text{🟢Put your all direct link to text file}}$**"
      ],
      "metadata": {
        "id": "cAdE5N6OWyFt"
      }
    },
    {
      "cell_type": "code",
      "source": [
        "#@markdown  <b><h5>Download Multiple URL File To Google Drive</h5></b>\n",
        "import os\n",
        "URL_LIST_PATH = \"/content/link.txt\" #@param {type:\"string\"}\n",
        "DOWNLOAD_PATH = \"/content/drive/MyDrive\" #@param {type:\"string\"}\n",
        "os.chdir(DOWNLOAD_PATH)\n",
        "!wget -c -i $URL_LIST_PATH  --no-check-certificate"
      ],
      "metadata": {
        "id": "IoXbObL2VXFN",
        "cellView": "form"
      },
      "execution_count": null,
      "outputs": []
    }
  ]
}
