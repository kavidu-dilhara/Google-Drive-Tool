{
  "nbformat": 4,
  "nbformat_minor": 0,
  "metadata": {
    "colab": {
      "provenance": [],
      "collapsed_sections": [
        "Ery5UY8XlVT3",
        "oci_sCyEm3I3",
        "Z0ZxsnFBkqoX",
        "10a-D1fRipJ1",
        "rSJTpu4aj9eA",
        "wO72NOR4lgg_",
        "xtgsEqQ0hdpU"
      ],
      "include_colab_link": true
    },
    "kernelspec": {
      "name": "python3",
      "display_name": "Python 3"
    },
    "language_info": {
      "name": "python"
    }
  },
  "cells": [
    {
      "cell_type": "markdown",
      "metadata": {
        "id": "view-in-github",
        "colab_type": "text"
      },
      "source": [
        "<a href=\"https://colab.research.google.com/github/kavidu-dilhara/Google-Drive-Tools/blob/main/Tools/Google_Drive_Tools.ipynb\" target=\"_parent\"><img src=\"https://colab.research.google.com/assets/colab-badge.svg\" alt=\"Open In Colab\"/></a>"
      ]
    },
    {
      "cell_type": "markdown",
      "source": [
        "# <center><b>Google Drive Tools\n",
        "#### <center>Make Google Drive easier with Google Colab\n",
        "\n",
        "<center><img src=\"https://i.ibb.co/GRLrLFw/Photo-1265003955.jpg\" alt=\"Google Drive Tools\" width=\"500\"></center>"
      ],
      "metadata": {
        "id": "7eW0us1leH0S"
      }
    },
    {
      "cell_type": "markdown",
      "source": [
        "\n",
        "<font color='Red'><h1>Any Direct File To Google Drive Downloader ⬇️</font>"
      ],
      "metadata": {
        "id": "LMvKwKqOehKq"
      }
    },
    {
      "cell_type": "markdown",
      "source": [
        "$\\color{red}{\\text{Important Note}}$: Enter Only Direct File Link"
      ],
      "metadata": {
        "id": "v7eWHYEpev9d"
      }
    },
    {
      "cell_type": "code",
      "source": [
        "#@markdown Mount Google Drive ☁\n",
        "from google.colab import drive\n",
        "drive.mount('/content/drive')"
      ],
      "metadata": {
        "cellView": "form",
        "id": "w-QavakVe1Ur"
      },
      "execution_count": null,
      "outputs": []
    },
    {
      "cell_type": "code",
      "source": [
        "#@markdown  <b><h5>Download Singal URL File To Google Drive</h5></b>\n",
        "import os\n",
        "DOWNLOAD_URL = \"\" #@param {type:\"string\"}\n",
        "DOWNLOAD_PATH = \"/content/drive/\" #@param {type:\"string\"}\n",
        "os.chdir(DOWNLOAD_PATH)\n",
        "!wget -c $DOWNLOAD_URL  --no-check-certificate"
      ],
      "metadata": {
        "cellView": "form",
        "id": "WV8x4KuHfHWs"
      },
      "execution_count": null,
      "outputs": []
    },
    {
      "cell_type": "markdown",
      "source": [
        "$\\color{red}{\\text{🟢Put your all direct link to text file}}$"
      ],
      "metadata": {
        "id": "ygQ53fXRfQ7a"
      }
    },
    {
      "cell_type": "code",
      "source": [
        "#@markdown  <b><h5>Download Multiple URL File To Google Drive</h5></b>\n",
        "import os\n",
        "URL_LIST_PATH = \"/content/link.txt\" #@param {type:\"string\"}\n",
        "DOWNLOAD_PATH = \"/content/drive/MyDrive\" #@param {type:\"string\"}\n",
        "os.chdir(DOWNLOAD_PATH)\n",
        "!wget -i $URL_LIST_PATH  --no-check-certificate"
      ],
      "metadata": {
        "cellView": "form",
        "id": "vy2GGx-ffXy0"
      },
      "execution_count": null,
      "outputs": []
    },
    {
      "cell_type": "markdown",
      "source": [
        "\n",
        "<font color='red'><h1>This notebook allows for downloading all videos on a Youtube channel to your Google Drive</font>\n",
        "####You need to have Youtube API key before using this. This notebook use youtube-dl library for downloading the videos."
      ],
      "metadata": {
        "id": "_b31FVajpvyK"
      }
    },
    {
      "cell_type": "code",
      "source": [
        "#@markdown ### Mount Google Drive<br><h5>To stream files we need to mount Google Drive.\n",
        "import os\n",
        "from google.colab import drive\n",
        "drive.mount('/content/gdrive')"
      ],
      "metadata": {
        "cellView": "form",
        "id": "6dnjmm2Kpz26"
      },
      "execution_count": null,
      "outputs": []
    },
    {
      "cell_type": "code",
      "source": [
        "#@markdown #Install the required library\n",
        "!pip install youtube_dl"
      ],
      "metadata": {
        "cellView": "form",
        "id": "oAI0hd-_p0lS"
      },
      "execution_count": null,
      "outputs": []
    },
    {
      "cell_type": "markdown",
      "source": [
        "# Get all video links from the channel\n",
        "Change api_key to your own Youtube API key, and channel_id to the ID of the channel you wish to download"
      ],
      "metadata": {
        "id": "PMvpm3qXp2mb"
      }
    },
    {
      "cell_type": "code",
      "source": [
        "import json\n",
        "from urllib.request import urlopen\n",
        "\n",
        "api_key = ''\n",
        "channel_id = \"\"\n",
        "\n",
        "def get_all_video_in_channel():\n",
        "    base_video_url = 'https://www.youtube.com/watch?v='\n",
        "    base_search_url = 'https://www.googleapis.com/youtube/v3/search?'\n",
        "\n",
        "    first_url = base_search_url + 'key={}&channelId={}&part=snippet,id&order=date&maxResults=25'.format(api_key, channel_id)\n",
        "    video_links = []\n",
        "    url = first_url\n",
        "    while True:\n",
        "        inp = urlopen(url)\n",
        "        resp = json.load(inp)\n",
        "\n",
        "        for i in resp['items']:\n",
        "            channel_name = resp['items']\n",
        "            if i['id']['kind'] == \"youtube#video\":\n",
        "                video_links.append(base_video_url + i['id']['videoId'])\n",
        "        try:\n",
        "            next_page_token = resp['nextPageToken']\n",
        "            url = first_url + '&pageToken={}'.format(next_page_token)\n",
        "        except:\n",
        "            break\n",
        "    return video_links\n",
        "\n",
        "\n",
        "links = get_all_video_in_channel()\n",
        "for link in links:\n",
        "  print(link)\n",
        "channel_api = \"https://www.googleapis.com/youtube/v3/channels?part=snippet&id={}&key={}\".format(channel_id, api_key)\n",
        "cname = urlopen(channel_api)\n",
        "respon = json.load(cname)\n",
        "channel_name = respon[\"items\"][0][\"snippet\"][\"title\"]\n",
        "print(\"Channel name: \" + channel_name)\n",
        "print(\"Total videos found: \" + str(len(links)))"
      ],
      "metadata": {
        "id": "jOoClc94p6kQ"
      },
      "execution_count": null,
      "outputs": []
    },
    {
      "cell_type": "code",
      "source": [
        "#@markdown # Change the working directory <h5>This will change the working directory to the Google drive folder, by default this will make new folder called \"Youtube Downloads\" and place the downloaded videos here. You can change it to whatever you want.\n",
        "\n",
        "os.chdir('gdrive/MyDrive')\n",
        "!mkdir -p \"Youtube Downloads\"\n",
        "os.chdir(\"Youtube Downloads\")\n",
        "print(\"Current directory: \" + os.getcwd())"
      ],
      "metadata": {
        "cellView": "form",
        "id": "Ddb1f_YTqIE5"
      },
      "execution_count": null,
      "outputs": []
    },
    {
      "cell_type": "code",
      "source": [
        "#@markdown # Download the videos using youtube-dl\n",
        "from future import unicode_literals\n",
        "import youtube_dl\n",
        "\n",
        "ydl_opts = {}\n",
        "with youtube_dl.YoutubeDL(ydl_opts) as ydl:\n",
        "    ydl.download(links)"
      ],
      "metadata": {
        "cellView": "form",
        "id": "zlH3ZjFLqJFw"
      },
      "execution_count": null,
      "outputs": []
    },
    {
      "cell_type": "markdown",
      "source": [
        "<font color='Red'><h1>Torrent To Google Drive Downloader</font>"
      ],
      "metadata": {
        "id": "_SFi1WWUgTn0"
      }
    },
    {
      "cell_type": "markdown",
      "source": [
        "Important Note: To get more disk space:\n",
        "> Go to Runtime -> Change Runtime and give GPU as the Hardware Accelerator.  You will get around 384GB to download any torrent you want."
      ],
      "metadata": {
        "id": "jO28Kn1egfgr"
      }
    },
    {
      "cell_type": "code",
      "source": [
        "#@markdown ### Mount Google Drive<br><h5>To stream files we need to mount Google Drive.\n",
        "\n",
        "from google.colab import drive\n",
        "\n",
        "drive.mount(\"/content/drive\")"
      ],
      "metadata": {
        "cellView": "form",
        "id": "s2c0X91sg5dq"
      },
      "execution_count": null,
      "outputs": []
    },
    {
      "cell_type": "code",
      "source": [
        "#@markdown ### Install libtorrent and Initialize Session\n",
        "!apt install python3-libtorrent\n",
        "\n",
        "import libtorrent as lt\n",
        "\n",
        "ses = lt.session()\n",
        "ses.listen_on(6881, 6891)\n",
        "downloads = []"
      ],
      "metadata": {
        "cellView": "form",
        "id": "1irUGzqQgkkM"
      },
      "execution_count": null,
      "outputs": []
    },
    {
      "cell_type": "code",
      "source": [
        "#@markdown ### Add From Torrent File<br> <h5>You can run this cell to add more files as many times as you want\n",
        "from google.colab import files\n",
        "DOWNLOAD_PATH = \"/content/drive/MyDrive\" #@param {type:\"string\"}\n",
        "source = files.upload()\n",
        "params = {\n",
        "    \"save_path\": \"$DOWNLOAD_PATH\",\n",
        "    \"ti\": lt.torrent_info(list(source.keys())[0]),\n",
        "}\n",
        "downloads.append(ses.add_torrent(params))"
      ],
      "metadata": {
        "cellView": "form",
        "id": "CXVv4UfwhBOD"
      },
      "execution_count": null,
      "outputs": []
    },
    {
      "cell_type": "code",
      "source": [
        "#@markdown ### Add From Magnet Link <br><h5>You can run this cell to add more files as many times as you want\n",
        "DOWNLOAD_PATH = \"/content/drive/MyDrive\" #@param {type:\"string\"}\n",
        "params = {\"save_path\": \"$DOWNLOAD_PATH\"}\n",
        "\n",
        "while True:\n",
        "    magnet_link = input(\"Enter Magnet Link Or Type Exit: \")\n",
        "    if magnet_link.lower() == \"exit\":\n",
        "        break\n",
        "    downloads.append(\n",
        "        lt.add_magnet_uri(ses, magnet_link, params)\n",
        "    )"
      ],
      "metadata": {
        "cellView": "form",
        "id": "QQsIZWdPhJWq"
      },
      "execution_count": null,
      "outputs": []
    },
    {
      "cell_type": "code",
      "source": [
        "#@markdown ### Start Download \n",
        "import time\n",
        "from IPython.display import display\n",
        "import ipywidgets as widgets\n",
        "\n",
        "state_str = [\n",
        "    \"queued\",\n",
        "    \"checking\",\n",
        "    \"downloading metadata\",\n",
        "    \"downloading\",\n",
        "    \"finished\",\n",
        "    \"seeding\",\n",
        "    \"allocating\",\n",
        "    \"checking fastresume\",\n",
        "]\n",
        "\n",
        "layout = widgets.Layout(width=\"auto\")\n",
        "style = {\"description_width\": \"initial\"}\n",
        "download_bars = [\n",
        "lk\n",
        "\n",
        "lk👇### Add From Torrent File\n",
        "You can run this cell to add more files as many times as you want    widgets.FloatSlider(\n",
        "        step=0.01, disabled=True, layout=layout, style=style\n",
        "    )\n",
        "    for _ in downloads\n",
        "]\n",
        "display(*download_bars)\n",
        "\n",
        "while downloads:\n",
        "    next_shift = 0\n",
        "    for index, download in enumerate(downloads[:]):\n",
        "        bar = download_bars[index + next_shift]\n",
        "        if not download.is_seed():\n",
        "            s = download.status()\n",
        "\n",
        "            bar.description = \" \".join(\n",
        "                [\n",
        "                    download.name(),\n",
        "                    str(s.download_rate / 1000),\n",
        "                    \"kB/s\",\n",
        "                    state_str[s.state],\n",
        "                ]\n",
        "            )\n",
        "            bar.value = s.progress * 100\n",
        "        else:\n",
        "            next_shift -= 1\n",
        "            ses.remove_torrent(download)\n",
        "            downloads.remove(download)\n",
        "            bar.close() # Seems to be not working in Colab (see https://github.com/googlecolab/colabtools/issues/726#issue-486731758)\n",
        "            download_bars.remove(bar)\n",
        "            print(download.name(), \"complete\")\n",
        "    time.sleep(1)"
      ],
      "metadata": {
        "cellView": "form",
        "id": "kdjb3zCNhLDs"
      },
      "execution_count": null,
      "outputs": []
    },
    {
      "cell_type": "markdown",
      "source": [
        "<font color='red'><h1>Google Drive Streamable Link Generator for Media Files</font>\n",
        "* Make sure your file is accessable by anyone with the link\n",
        "\n",
        "* It's helpful to have a publicly shared folder when creating links, then you won't have to edit the Share setting for each individual file.\n",
        "* This script should work with every type of URL Google Drive can generate. As long as the File ID is there, anything else shouldn't matter."
      ],
      "metadata": {
        "id": "Ery5UY8XlVT3"
      }
    },
    {
      "cell_type": "code",
      "source": [
        "#@title ⬅️ ឵឵Click Here to Generate Streamable Links\n",
        "import re\n",
        "\n",
        "shared_file_link = \"\" #@param {type:\"string\"}\n",
        "result = re.search(\"[\\w-]{33}\", shared_file_link)\n",
        "your_api_key = \"\" #@param {type:\"string\"}\n",
        "drive_file_id = result.group(0)\n",
        "\n",
        "beg_url = \"https://www.googleapis.com/drive/v3/files/\"\n",
        "end_url = \"/?key=\" + your_api_key + \"&alt=media\"\n",
        "\n",
        "print(beg_url + drive_file_id + end_url)"
      ],
      "metadata": {
        "cellView": "form",
        "id": "2ISOff3KlXS2"
      },
      "execution_count": null,
      "outputs": []
    },
    {
      "cell_type": "markdown",
      "source": [
        "\n",
        "<font color='red'><h1>Download Spotify Playlist To Google Drive using spotdl</font>"
      ],
      "metadata": {
        "id": "oci_sCyEm3I3"
      }
    },
    {
      "cell_type": "code",
      "source": [
        "#@markdown  Run this cell to download all necccesary libraries for spotdl to work\n",
        "!apt-get remove ffmpeg\n",
        "!add-apt-repository -y ppa:savoury1/ffmpeg4\n",
        "!apt install -y ffmpeg\n",
        "!pip install spotdl"
      ],
      "metadata": {
        "cellView": "form",
        "id": "-q__WJ14m5dI"
      },
      "execution_count": null,
      "outputs": []
    },
    {
      "cell_type": "code",
      "source": [
        "#@markdown ### Run cell to download playlist in colab\n",
        "#@markdown #### Steps:\n",
        "#@markdown 1. First enter playlist *url*\n",
        "#@markdown 2.  select run after from Runtime or press ctrl+F10\n",
        "\n",
        "#@markdown Note:- Make sure to run the reset cell in the end before running this cell again to download another playlist. \n",
        "#@markdown As it is essential that empty songs directory is created before the move command is executed.\n",
        "\n",
        "\n",
        "#@title Enter spotify playlist URL\n",
        "\n",
        "url = ' https://open.spotify.com/playlist/6an0hNyshVMWORG7qVNUbq ' #@param {type:\"string\"}\n",
        "\n",
        "\n",
        "!spotdl url | grep -e [Found] > ~/sp.log\n",
        "!mkdir songs\n",
        "!find -type f -name \"*.mp3\" -exec mv {} /content/songs/ \\;"
      ],
      "metadata": {
        "cellView": "form",
        "id": "WrJDbeWDm745"
      },
      "execution_count": null,
      "outputs": []
    },
    {
      "cell_type": "code",
      "source": [
        "#@markdown ⬅️ Copy Song Folder To Drive \n",
        "DRIVE_PATH = \"/content/drive/drive2\" #@param {type:\"string\"}\n",
        "!sudo cp -r -v \"/content/songs/\" \"$DRIVE_PATH\""
      ],
      "metadata": {
        "cellView": "form",
        "id": "LuwAB3tOm_JI"
      },
      "execution_count": null,
      "outputs": []
    },
    {
      "cell_type": "code",
      "source": [
        "#@markdown ### Zip the songs folder to download the folder\n",
        "\n",
        "\n",
        "#@markdown **Note:- you can also transfer the zip file to your google drive by connecting it to the colab notebook. See this [resource](https://stackoverflow.com/questions/47744131/colaboratory-can-i-access-to-my-google-drive-folder-and-file) to know how to do it.** \n",
        "!zip -r /content/song.zip /content/songs"
      ],
      "metadata": {
        "cellView": "form",
        "id": "88fpZHiFnAQR"
      },
      "execution_count": null,
      "outputs": []
    },
    {
      "cell_type": "markdown",
      "source": [
        "### Reset the colab environment to download another playlist \n",
        "\n",
        "### To do so :\n",
        "1. The songs folder is deleted\n",
        "2. The songs zip file is removed"
      ],
      "metadata": {
        "id": "H3nBwaiJnOqH"
      }
    },
    {
      "cell_type": "code",
      "source": [
        "#@markdown ### Reset the colab environment to download another playlist \n",
        "\n",
        "#@markdown ### To do so :\n",
        "#@markdown 1. The songs folder is deleted\n",
        "#@markdown 2. The songs zip file is removed \n",
        "\n",
        "!rm -r /content/songs\n",
        "!rm -r /content/songs.zip"
      ],
      "metadata": {
        "cellView": "form",
        "id": "UcbYxSRQnhgW"
      },
      "execution_count": null,
      "outputs": []
    },
    {
      "cell_type": "code",
      "source": [
        "#@markdown ### Miscellaneous cells\n",
        "# removing all mp3 files\n",
        "!find -type f -name \"*.mp3\" -exec rm {} \\;\n",
        "\n",
        "# finding size of files\n",
        "!ls -lh\n",
        "\n",
        "# finding number of files in songs folder\n",
        "!ls /content/songs | wc -l;"
      ],
      "metadata": {
        "cellView": "form",
        "id": "7KaYNQZnntgO"
      },
      "execution_count": null,
      "outputs": []
    },
    {
      "cell_type": "markdown",
      "source": [
        "\n",
        "<font color='Red'><h1>One Google Drive To Other GDrive</font>"
      ],
      "metadata": {
        "id": "hYrTSoCnmYdO"
      }
    },
    {
      "cell_type": "code",
      "source": [
        "#@markdown ###⬅️Mount Google Drive<br><h5>Frist Google Drive Which Include Share Drive\n",
        "from google.colab import drive\n",
        "drive.mount('/content/drive')"
      ],
      "metadata": {
        "cellView": "form",
        "id": "D0c2UDc3mZwh"
      },
      "execution_count": null,
      "outputs": []
    },
    {
      "cell_type": "markdown",
      "source": [
        "###MOUNT YOUR SECOND GOOGLE DRIVE \n",
        "$\\color{red}{\\text{Important Note}}$: THIS CELL WILL NOT ABLE MOUNT YOUR SHARE DRIVE"
      ],
      "metadata": {
        "id": "IJXJ9UwImbm3"
      }
    },
    {
      "cell_type": "code",
      "source": [
        "#@title\n",
        "#@markdown <h3>⬅️ Click Here to Mount Second Drive</h3> \n",
        "\n",
        "!apt-get install -y -qq software-properties-common python-software-properties module-init-tools\n",
        "!add-apt-repository -y ppa:alessandro-strada/ppa 2>&1 > /dev/null\n",
        "!apt-get update -qq 2>&1 > /dev/null\n",
        "!apt-get -y install -qq google-drive-ocamlfuse fuse\n",
        "from google.colab import auth\n",
        "auth.authenticate_user()\n",
        "from oauth2client.client import GoogleCredentials\n",
        "creds = GoogleCredentials.get_application_default()\n",
        "import getpass\n",
        "!google-drive-ocamlfuse -headless -id={creds.client_id} -secret={creds.client_secret} < /dev/null 2>&1 | grep URL\n",
        "vcode = getpass.getpass()\n",
        "!echo {vcode} | google-drive-ocamlfuse -headless -id={creds.client_id} -secret={creds.client_secret}\n",
        "!sudo mkdir /content/drive1\n",
        "!google-drive-ocamlfuse /content/drive1"
      ],
      "metadata": {
        "cellView": "form",
        "id": "6WMK3Voamat5"
      },
      "execution_count": null,
      "outputs": []
    },
    {
      "cell_type": "code",
      "source": [
        "#@markdown ⬅️Transfer File/Folder One GDRIVE To Another GDRIVE\n",
        "FILE_FOLDER_PATH = \"/content/drive/mydrive\" #@param {type:\"string\"}\n",
        "NEW_PATH = \"/content/drive/drive2\" #@param {type:\"string\"}\n",
        "!sudo cp -r -v \"$FILE_FOLDER_PATH\" \"$NEW_PATH\""
      ],
      "metadata": {
        "cellView": "form",
        "id": "jvQdIwfomhdr"
      },
      "execution_count": null,
      "outputs": []
    },
    {
      "cell_type": "markdown",
      "source": [
        "<font color='red'><h1>Mega Single/Multiple Links Downloader to Google Drive</font>"
      ],
      "metadata": {
        "id": "FrMr8KTrAG5n"
      }
    },
    {
      "cell_type": "code",
      "source": [
        "#@markdown ### Mount Google Drive<br><h5>To stream files we need to mount Google Drive.\n",
        "from google.colab import drive\n",
        "drive.mount('/content/drive')"
      ],
      "metadata": {
        "cellView": "form",
        "id": "SuUB2nM0mDbX"
      },
      "execution_count": null,
      "outputs": []
    },
    {
      "cell_type": "code",
      "source": [
        "# @markdown <font size=6 color=\"red\">1. [Optional]</font><font size=5> Input Your Mega ID, Password (5GB+ Download )- if you have Pro/Business Account</font><br>\n",
        "from functools import wraps\n",
        "import errno\n",
        "import os\n",
        "import signal\n",
        "import subprocess\n",
        "import shlex\n",
        "\n",
        "\n",
        "class TimeoutError(Exception):\n",
        "    pass\n",
        "\n",
        "\n",
        "def timeout(seconds=10, error_message=os.strerror(errno.ETIME)):\n",
        "    def decorator(func):\n",
        "        def _handle_timeout(signum, frame):\n",
        "            raise TimeoutError(error_message)\n",
        "\n",
        "        def wrapper(*args, **kwargs):\n",
        "            signal.signal(signal.SIGALRM, _handle_timeout)\n",
        "            signal.alarm(seconds)\n",
        "            try:\n",
        "                result = func(*args, **kwargs)\n",
        "            finally:\n",
        "                signal.alarm(0)\n",
        "            return result\n",
        "\n",
        "        return wraps(func)(wrapper)\n",
        "\n",
        "    return decorator\n",
        "\n",
        "\n",
        "if not os.path.exists(\"/root/.ipython/ocr.py\"):\n",
        "    from subprocess import run\n",
        "    from shlex import split\n",
        "\n",
        "    shellCmd = \"wget -qq https://raw.githubusercontent.com/biplobsd/OneClickRun/master/res/ocr.py \\\n",
        "                    -O /root/.ipython/ocr.py\"\n",
        "    run(split(shellCmd))\n",
        "from ocr import runSh\n",
        "\n",
        "@timeout(10)\n",
        "def runShT(args):\n",
        "    return runSh(args, output=True)\n",
        "\n",
        "\n",
        "# MEGAcmd installing\n",
        "if not os.path.exists(\"/usr/bin/mega-cmd\"):\n",
        "    print(\"Installing MEGA ...\")\n",
        "    runSh('sudo apt-get -y update')\n",
        "    runSh('sudo apt-get -y install libmms0 libc-ares2 libc6 libcrypto++6 libgcc1 libmediainfo0v5 libpcre3 libpcrecpp0v5 libssl1.1 libstdc++6 libzen0v5 zlib1g apt-transport-https')\n",
        "    runSh('sudo curl -sL -o /var/cache/apt/archives/MEGAcmd.deb https://mega.nz/linux/MEGAsync/Debian_9.0/amd64/megacmd-Debian_9.0_amd64.deb', output=True)\n",
        "    runSh('sudo dpkg -i /var/cache/apt/archives/MEGAcmd.deb', output=True)\n",
        "    print(\"MEGA is installed.\")\n",
        "else:\n",
        "    !pkill mega-cmd\n",
        "\n",
        "# INPUT YOUR MEGA ID\n",
        "\n",
        "#runShT(f\"mega-logout\")\n",
        "USERNAME = \"yourname@gmail.com\"  # @param {type:\"string\"}\n",
        "PASSWORD = \"This ia a password\"  # @param {type:\"string\"}\n",
        "if not (USERNAME == \"\" or PASSWORD == \"\"):\n",
        "    try:\n",
        "        runShT(f\"mega-login {USERNAME} {PASSWORD}\")\n",
        "    except TimeoutError:\n",
        "        runSh('mega-whoami', output=True)\n",
        "else:\n",
        "    print(\"Please Input your Mega IDs.\")\n",
        "# @markdown *<font color=\"red\">After signing in, use the below cell(Main Cell) to transfer files from Mega to any Cloud Drive using the transfer quota of your Mega Pro/Business Account*</font>"
      ],
      "metadata": {
        "cellView": "form",
        "id": "bEaKr3iZmEzv"
      },
      "execution_count": null,
      "outputs": []
    },
    {
      "cell_type": "code",
      "source": [
        "#@title\n",
        "import sys, os, urllib.request\n",
        "import time\n",
        "import subprocess\n",
        "import contextlib\n",
        "from IPython.display import clear_output\n",
        "# @markdown <font size=6 color=\"red\">2.</font><font size=5> MEGA Single/Multiple public links Downloader</font><br>\n",
        "#@markdown <br><h2><b> Multiple URL's Supported\n",
        "#@markdown <br><br><center><img src='https://mega.nz/favicon.ico?v=3' height=\"50\" alt=\"MEGA-logo\"/></center>\n",
        "#@markdown <center><h2>Transfer from Single/Multiple Mega Links to any Cloud Drive</h2></center><br>\n",
        "HOME = os.path.expanduser(\"~\")\n",
        "if not os.path.exists(f\"{HOME}/.ipython/ocr.py\"):\n",
        "    hCode = \"https://raw.githubusercontent.com/biplobsd/\" \\\n",
        "                \"OneClickRun/master/res/ocr.py\"\n",
        "    urllib.request.urlretrieve(hCode, f\"{HOME}/.ipython/ocr.py\")\n",
        "\n",
        "from ocr import (\n",
        "    runSh,\n",
        "    loadingAn,\n",
        ")\n",
        "#@title\n",
        "SINGLE_URL = \"https://mega.nz/folder/euiKwguiue6ieZ#7wlzeuiycbGV-b5LvZeuu\" #@param {type:\"string\"}\n",
        "#BoostUpStation\n",
        "MULTI_URL_FILE = False #@param {type:\"boolean\"}\n",
        "MULTI_URL_FILE_PATH = \"/content/link.txt\" #@param {type:\"string\"}\n",
        "#BoostUpStation\n",
        "OUTPUT_PATH = \"/content/drive/Shareddrives/\" #@param {type:\"string\"}\n",
        "#@markdown #####_<font color=\"red\">*Sometimes this cell doesn't stop itself after the completion of the transfer. In case of that stop the cell manually._</font>\n",
        "\n",
        "if not OUTPUT_PATH:\n",
        "  os.makedirs(\"downloads\", exist_ok=True)\n",
        "  OUTPUT_PATH = \"downloads\"\n",
        "# MEGAcmd installing\n",
        "if not os.path.exists(\"/usr/bin/mega-cmd\"):\n",
        "    loadingAn()\n",
        "    print(\"Installing MEGA ...\")\n",
        "    runSh('sudo apt-get -y update')\n",
        "    runSh('sudo apt-get -y install libmms0 libc-ares2 libc6 libcrypto++6 libgcc1 libmediainfo0v5 libpcre3 libpcrecpp0v5 libssl1.1 libstdc++6 libzen0v5 zlib1g apt-transport-https')\n",
        "    runSh('sudo curl -sL -o /var/cache/apt/archives/MEGAcmd.deb https://mega.nz/linux/MEGAsync/Debian_9.0/amd64/megacmd-Debian_9.0_amd64.deb', output=True)\n",
        "    runSh('sudo dpkg -i /var/cache/apt/archives/MEGAcmd.deb', output=True)\n",
        "    print(\"MEGA is installed.\")\n",
        "    clear_output()\n",
        "\n",
        "# Unix, Windows and old Macintosh end-of-line\n",
        "newlines = ['\\n', '\\r\\n', '\\r']\n",
        "\n",
        "def unbuffered(proc, stream='stdout'):\n",
        "    stream = getattr(proc, stream)\n",
        "    with contextlib.closing(stream):\n",
        "        while True:\n",
        "            out = []\n",
        "            last = stream.read(1)\n",
        "            # Don't loop forever\n",
        "            if last == '' and proc.poll() is not None:\n",
        "                break\n",
        "            while last not in newlines:\n",
        "                # Don't loop forever\n",
        "                if last == '' and proc.poll() is not None:\n",
        "                    break\n",
        "                out.append(last)\n",
        "                last = stream.read(1)\n",
        "            out = ''.join(out)\n",
        "            yield out\n",
        "\n",
        "\n",
        "def transfer():\n",
        "    import codecs\n",
        "    decoder = codecs.getincrementaldecoder(\"UTF-8\")()\n",
        "    #BoostUpStation\n",
        "    def downloader(URL):\n",
        "    #BoostUpStation\n",
        "        cmd = [\"mega-get\", URL, OUTPUT_PATH]\n",
        "        proc = subprocess.Popen(\n",
        "            cmd,\n",
        "            stdout=subprocess.PIPE,\n",
        "            stderr=subprocess.STDOUT,\n",
        "            # Make all end-of-lines '\\n'\n",
        "            universal_newlines=True,\n",
        "        )\n",
        "        for line in unbuffered(proc):\n",
        "            print(line)\n",
        "    #BoostUpStation\n",
        "    if(MULTI_URL_FILE):\n",
        "        with open(MULTI_URL_FILE_PATH) as f:\n",
        "            Links = f.readlines()\n",
        "            for LINK in Links:\n",
        "                print(\"#############################\")\n",
        "                print(\"DOWNLOADING -- \" + LINK)\n",
        "                print(\"#############################\")\n",
        "                downloader(LINK)\n",
        "    else:\n",
        "        downloader(SINGLE_URL)\n",
        "    #BoostUpStation\n",
        "transfer()"
      ],
      "metadata": {
        "cellView": "form",
        "id": "PdRUG_WfmFex"
      },
      "execution_count": null,
      "outputs": []
    },
    {
      "cell_type": "markdown",
      "source": [
        "<font color='red'><h1>Extract Zip/Tar/Rar/7z Files in Google Drive</font>"
      ],
      "metadata": {
        "id": "Z0ZxsnFBkqoX"
      }
    },
    {
      "cell_type": "code",
      "source": [
        "#@markdown ###⬅️Mount Google Drive<br><h5>To stream files we need to mount Google Drive.\n",
        "\n",
        "from google.colab import drive\n",
        "drive.mount('/content/drive', force_remount=True)"
      ],
      "metadata": {
        "cellView": "form",
        "id": "unn8m91bktIN"
      },
      "execution_count": null,
      "outputs": []
    },
    {
      "cell_type": "code",
      "source": [
        "# ============================= FORM ============================= #\n",
        "# @markdown #### ⬅️ Extract Files\n",
        "MODE = \"UNZIP\"  # @param [\"UNZIP\", \"UNTAR\", \"UNRAR\", \"7Z\"]\n",
        "PATH_TO_FILE = \"\"  # @param {type:\"string\"}\n",
        "extractPath = \"\"  # @param {type:\"string\"}\n",
        "ARCHIVE_PASSWORD = \"\" #@param {type:\"string\"}\n",
        "\n",
        "# ================================================================ #\n",
        "import os, urllib.request\n",
        "HOME = os.path.expanduser(\"~\")\n",
        "\n",
        "if not os.path.exists(f\"{HOME}/.ipython/ocr.py\"):\n",
        "    hCode = \"https://raw.githubusercontent.com/biplobsd/\" \\\n",
        "                \"OneClickRun/master/res/ocr.py\"\n",
        "    urllib.request.urlretrieve(hCode, f\"{HOME}/.ipython/ocr.py\")\n",
        "\n",
        "from ocr import (\n",
        "    runSh,\n",
        "    checkAvailable,\n",
        ")\n",
        "\n",
        "def extractFiles():\n",
        "    global extractPath\n",
        "    if ARCHIVE_PASSWORD:\n",
        "      passADD = f'-p{ARCHIVE_PASSWORD}'\n",
        "    else:\n",
        "      passADD = ''\n",
        "    if not extractPath:\n",
        "      extractPath = \"/content/extract\"\n",
        "    os.makedirs(extractPath, exist_ok=True)\n",
        "    if MODE == \"UNZIP\":\n",
        "        runSh('unzip '+passADD+f' \"{PATH_TO_FILE}\" -d \"{extractPath}\"', output=True)\n",
        "    elif MODE == \"UNRAR\":\n",
        "        runSh(f'unrar x \"{PATH_TO_FILE}\" \"{extractPath}\" '+passADD+' -o+', output=True)\n",
        "    elif MODE == \"UNTAR\":\n",
        "        runSh(f'tar -C \"{extractPath}\" -xvf \"{PATH_TO_FILE}\"', output=True)\n",
        "    else:\n",
        "        runSh(f'7z x \"{PATH_TO_FILE}\" -o{extractPath} '+passADD, output=True)\n",
        "\n",
        "\n",
        "extractFiles()"
      ],
      "metadata": {
        "cellView": "form",
        "id": "7KBASgDRktYX"
      },
      "execution_count": null,
      "outputs": []
    },
    {
      "cell_type": "markdown",
      "source": [
        "<font color='red'><h1>Download Facebook Video</font>\n",
        "\n",
        "* This code downloads a publicly available facebook video\n",
        "* Just pass it the video link and where you'd like to save it on your machine"
      ],
      "metadata": {
        "id": "ikiSi3lDk9Xt"
      }
    },
    {
      "cell_type": "code",
      "source": [
        "#@markdown ⬅️ Import required packages\n",
        "import sys\n",
        "import os\n",
        "import re\n",
        "import requests as r\n",
        "!pip install wget"
      ],
      "metadata": {
        "cellView": "form",
        "id": "EYmdI7jZk_oh"
      },
      "execution_count": null,
      "outputs": []
    },
    {
      "cell_type": "code",
      "source": [
        "#@markdown  This is the function that does the download pass it the FB video URL and a path to the destination folder\n",
        "def download_fbvid(link, dest_folder):\n",
        "    try:\n",
        "        html = r.get(link)\n",
        "        hdvideo_url = re.search('hd_src:\"(.+?)\"', html.text)[1]\n",
        "    except r.ConnectionError as e:\n",
        "        print(\"OOPS!! Connection Error.\")\n",
        "        return False\n",
        "    except r.Timeout as e:\n",
        "        print(\"OOPS!! Timeout Error\")\n",
        "        return False\n",
        "    except r.RequestException as e:\n",
        "        print(\"OOPS!! General Error or Invalid URL\")\n",
        "        return False\n",
        "    except (KeyboardInterrupt, SystemExit):\n",
        "        print(\"Ok ok, quitting\")\n",
        "        sys.exit(1)\n",
        "    except TypeError:\n",
        "        print(\"Video May Private or Hd version not avilable\")\n",
        "        return False\n",
        "    else:\n",
        "        hd_url = hdvideo_url.replace('hd_src:\"', '')\n",
        "        wget.download(hd_url, dest_folder)\n",
        "        print(\"Downloaded successful!\")\n",
        "        return True"
      ],
      "metadata": {
        "cellView": "form",
        "id": "juoitqCXlDVh"
      },
      "execution_count": null,
      "outputs": []
    },
    {
      "cell_type": "code",
      "source": [
        "LINK = \"\" #@param {type:\"string\"}\n",
        "DOWNLOAD_PATH = \"/content/\" #@param {type:\"string\"}\n",
        "dest_folder = '$DOWNLOAD_PATH'\n",
        "download_fbvid(LINK, dest_folder)"
      ],
      "metadata": {
        "cellView": "form",
        "id": "vtzHb1hWlG0A"
      },
      "execution_count": null,
      "outputs": []
    },
    {
      "cell_type": "markdown",
      "source": [
        "<font color='red'><h1> Compress Files/Folders to Zip/Tar/7z Archives in Google Drive</font>"
      ],
      "metadata": {
        "id": "10a-D1fRipJ1"
      }
    },
    {
      "cell_type": "code",
      "source": [
        "#@markdown ### Mount Google Drive<br><h5>To stream files we need to mount Google Drive.\n",
        "from google.colab import drive\n",
        "drive.mount('/content/drive', force_remount=True)"
      ],
      "metadata": {
        "cellView": "form",
        "id": "h2KpyUTvitVr"
      },
      "execution_count": null,
      "outputs": []
    },
    {
      "cell_type": "code",
      "source": [
        "# ============================= FORM ============================= #\n",
        "# @markdown #### ⬅️ Archive Files\n",
        "MODE = \"ZIP\" #@param [\"ZIP\", \"TAR\", \"7Z\"]\n",
        "FILENAME = \"/content/drive/My Drive/password_protected.zip\"  # @param {type:\"string\"}\n",
        "PATH_TO_FILE = \"/content/drive/My Drive/Subscribe/RAR for Android v5.91 build 95 [Final] [Premium] [Mod]\"  # @param {type:\"string\"}\n",
        "ARCHIVE_PASSWORD = \"1234\" #@param {type:\"string\"}\n",
        "\n",
        "# option supports b k m g (bytes, kilobytes, megabytes, gigabytes)\n",
        "SPLIT = \"no\" #@param [\"1g\", \"2g\", \"3g\", \"4g\", \"5g\", \"no\"]\n",
        "\n",
        "\n",
        "compress = 6#@param  {type:\"slider\", min:0, max:9, step:0}\n",
        "#@markdown <font size=2%>Use this to path separate between to this character |. Ex path/to /1 | path/to/2 </br>#Split only in zip mode.(Only for noobs)\n",
        "# ================================================================ #\n",
        "from pathlib import PurePosixPath\n",
        "\n",
        "pathList = PATH_TO_FILE.split('|')\n",
        "if MODE == \"ZIP\":\n",
        "    if not FILENAME:\n",
        "      FILENAME = \"/content/NEW_FILE.ZIP\"\n",
        "    if ARCHIVE_PASSWORD:\n",
        "      passADD = f'--password \"{ARCHIVE_PASSWORD}\"'\n",
        "    else:\n",
        "      passADD = ''\n",
        "    splitC = f\"-s {SPLIT}\" if not 'no' in SPLIT else \"\"\n",
        "    for part in pathList:\n",
        "      pathdic = PurePosixPath(part.strip())\n",
        "      parent = pathdic.parent\n",
        "      partName = pathdic.parts[-1]\n",
        "      cmd = f'cd \"{parent}\" && zip {passADD} -{compress} {splitC} -v -r -u \"{FILENAME}\" \"{partName}\"'\n",
        "      !$cmd\n",
        "elif MODE == \"TAR\":\n",
        "    if not FILENAME:\n",
        "      FILENAME = \"/content/NEW_FILE\"\n",
        "    cmd = f'GZIP=-{compress} tar -zcvf \"{FILENAME}.tar.gz\" {PATH_TO_FILE}'\n",
        "    !$cmd\n",
        "else:\n",
        "    if not FILENAME:\n",
        "        FILENAME = \"/content/NEW_FILE\"\n",
        "    for part in pathList:\n",
        "      pathdic = PurePosixPath(part.strip())\n",
        "      parent = pathdic.parent\n",
        "      partName = pathdic.parts[-1]\n",
        "      cmd = f'cd \"{parent}\" && 7z a -mx={compress} \"{FILENAME}.7z\" \"{partName}\"'\n",
        "      !$cmd"
      ],
      "metadata": {
        "cellView": "form",
        "id": "pdjqh7wyi008"
      },
      "execution_count": null,
      "outputs": []
    },
    {
      "cell_type": "markdown",
      "source": [
        "<font color='red'><h1>Convert OR Compress Videos in Google Colab Google Drive</font>"
      ],
      "metadata": {
        "id": "rSJTpu4aj9eA"
      }
    },
    {
      "cell_type": "code",
      "source": [
        "#@title ⬇️Install HandBrake and rClone\n",
        "%%capture\n",
        "AUTO_RECONNECT = True #@param {type:\"boolean\"}\n",
        "HANDBRAKE = True #@param {type:\"boolean\"}\n",
        "RCLONE = True #@param {type:\"boolean\"}\n",
        "#@markdown Check AUTO_RECONNECT to prevent notebook from disconnecting!\n",
        "\n",
        "from os import makedirs\n",
        "makedirs(\"/content/temp/HandbrakeTemp\", exist_ok = True)\n",
        "makedirs(\"/root/.config/rclone\", exist_ok = True)\n",
        "if HANDBRAKE==True:\n",
        "  !wget -qq https://github.com/vot/ffbinaries-prebuilt/releases/download/v4.2.1/ffmpeg-4.2.1-linux-64.zip \n",
        "  !rm -f ffmpeg-4.2.1-linux-64.zip\n",
        "  !add-apt-repository ppa:stebbins/handbrake-releases -y \n",
        "  !apt-get install -y handbrake-cli \n",
        "  \n",
        "if RCLONE==True:\n",
        "  !curl https://rclone.org/install.sh | sudo bash\n",
        "\n",
        "if AUTO_RECONNECT:\n",
        "  import IPython\n",
        "  from google.colab import output\n",
        "\n",
        "  display(IPython.display.Javascript('''\n",
        "  function ClickConnect(){\n",
        "    btn = document.querySelector(\"colab-connect-button\")\n",
        "    if (btn != null){\n",
        "      console.log(\"Click colab-connect-button\");\n",
        "      btn.click()\n",
        "      }\n",
        "    \n",
        "    btn = document.getElementById('ok')\n",
        "    if (btn != null){\n",
        "      console.log(\"Click reconnect\");\n",
        "      btn.click()\n",
        "      }\n",
        "    }\n",
        "    \n",
        "  setInterval(ClickConnect,60000)\n",
        "  '''))"
      ],
      "metadata": {
        "cellView": "form",
        "id": "X6ecGlOZkFkm"
      },
      "execution_count": null,
      "outputs": []
    },
    {
      "cell_type": "code",
      "source": [
        "#@title <center> <strong>HandBrake Configuration</strong> </center>\n",
        "#@markdown > Select Mode ( Batch conversion/ Single File)\n",
        "MODE = \"SINGLE\" #@param [\"SINGLE\", \"BATCH\"]\n",
        "\n",
        "\n",
        "#@markdown ---\n",
        "SOURCE = \"\" #@param {type:\"string\"}\n",
        "DESTINATION = \"\" #@param {type:\"string\"}\n",
        "FORMAT = \"mp4\" #@param [\"mp4\", \"mkv\"]\n",
        "RESOLUTION = \"480p\" #@param [\"360p\", \"480p\",\"540p\", \"720p\", \"1080p\"]\n",
        "Encoder = \"x264\" #@param [\"x264\", \"x265\"]\n",
        "Encoder_Preset = \"ultrafast\" #@param [\"ultrafast\", \"faster\", \"fast\", \"medium\", \"slow\", \"slower\"]\n",
        "#@markdown Choose Constant Quality Rate [Lower = Higher Quality/\n",
        "#@markdown Larger File Size]\n",
        "CQ = 30 #@param {type:\"slider\", min:10, max:30, step:1}\n",
        "BURN_SUBTITLES = False #@param {type:\"boolean\"}\n",
        "Additional_Flags = \"\" #@param {type:\"string\"}\n",
        "\n",
        "########################################################\n",
        "import smtplib\n",
        "import os\n",
        "\n",
        "\n",
        "formats = ('.mkv','.mp4','.ts','.avi','.mov','.wmv')\n",
        "\n",
        "######## Renames the file ########\n",
        "def fileName(fPath):\n",
        "        tName = fPath.split('/')[-1]        \n",
        "        if tName.endswith('ts'):\n",
        "          tName = tName[:-3] + f' [{RESOLUTION}] [{Encoder}].{FORMAT}'    \n",
        "        else:\n",
        "          tName = tName[:-4] + f' [{RESOLUTION}] [{Encoder}].{FORMAT}'    \n",
        "        return tName\n",
        "\n",
        "def set_resolution():\n",
        "  global w,h,flags\n",
        "  if RESOLUTION == \"360p\":\n",
        "    w, h = \"480\" , \"360\"\n",
        "  elif RESOLUTION == \"480p\":\n",
        "    w, h = \"854\" , \"480\"\n",
        "  elif RESOLUTION == \"540p\":\n",
        "    w, h = \"960\" , \"540\"\n",
        "  elif RESOLUTION == \"720p\":\n",
        "    w, h = \"1280\" , \"720\"\n",
        "  elif RESOLUTION == \"1080p\":\n",
        "    w, h = \"1920\" , \"1080\"\n",
        "\n",
        "def addFlags():\n",
        "  global flags\n",
        "  flags = f\" --encoder {Encoder}  --all-audio -s '0,1,2,3' --cfr --optimize --quality={CQ} --width={w} --height={h} --format={FORMAT} --encoder-preset={Encoder_Preset} \"\n",
        "  if BURN_SUBTITLES:\n",
        "    flags += \"-s '1' --subtitle-burned '1' \"\n",
        "  if Additional_Flags != \"\":\n",
        "    flags += str(Additional_Flags)\n",
        "\n",
        "set_resolution()\n",
        "addFlags()\n",
        "\n",
        "##### HandBrake and Rclone #####\n",
        "def runner(path):\n",
        "  f_name = fileName(path)\n",
        "  hTemp=f\"/content/temp/HandbrakeTemp/{f_name}\"\n",
        "  !HandBrakeCLI -i \"$path\" -o \"$hTemp\" $flags\n",
        "  \n",
        "      \n",
        "  if os.path.isfile(hTemp):\n",
        "    print(f\"\\n\\n** Successfully converted {f_name}\\n Now saving to Destination.....\")\n",
        "    if os.path.exists('/usr/bin/rclone'):\n",
        "      !rclone move \"$hTemp\" --user-agent \"Mozilla\" \"$DESTINATION\" --transfers 20 --checkers 20 --stats-one-line --stats=5s -v --tpslimit 95 --tpslimit-burst 40\n",
        "    else:\n",
        "      dest = DESTINATION+'/'+f_name\n",
        "      !mv \"$hTemp\" \"$dest\"\n",
        "  if os.path.isfile(DESTINATION+ '/' +f_name):    \n",
        "      print(f\"\\n\\n** Successfully saved {f_name} to Destination\")\n",
        "\n",
        "########## Check Mode ########\n",
        "if MODE==\"BATCH\":\n",
        "  os.makedirs(DESTINATION, exist_ok=True)\n",
        "  if SOURCE.endswith('/'):\n",
        "      pass\n",
        "  else: SOURCE +='/'\n",
        "  filesList = os.listdir(SOURCE+'.')\n",
        "  if os.path.isfile(SOURCE+'processed_db.txt'):\n",
        "    pass\n",
        "  else:\n",
        "    with open((SOURCE+'processed_db.txt'), 'w') as fb:\n",
        "      fb.write(\"Do not delete this file until all files have been processed!\\n\")\n",
        "      fb.close()\n",
        "  with open((SOURCE+'processed_db.txt'), \"r+\") as filehandle:\n",
        "    processedList = [x.rstrip() for x in filehandle.readlines()]\n",
        "\n",
        "    print('<<<<<<<<<<<<<<<<<< Starting Conversion in Batch mode. >>>>>>>>>>>>>>>>>>')\n",
        "\n",
        "    for currentFile in filesList:\n",
        "      if currentFile.endswith(formats):\n",
        "        if currentFile not in processedList:\n",
        "          currentPath = SOURCE + currentFile      \n",
        "          print(f'\\n\\n**** Current File to process: {currentFile}')\n",
        "          runner(currentPath)\n",
        "          filehandle.write(currentFile+'\\n')\n",
        "    filehandle.close()\n",
        "        \n",
        "\n",
        "else:\n",
        "    if SOURCE.endswith(formats):    \n",
        "        runner(SOURCE)\n",
        "    else: print(\"Are you sure you have selected the correct file??\")"
      ],
      "metadata": {
        "cellView": "form",
        "id": "-z0ZBuTBkLDu"
      },
      "execution_count": null,
      "outputs": []
    },
    {
      "cell_type": "code",
      "source": [
        "#@markdown ### Mount Google Drive<br><h5>To stream files we need to mount Google Drive.\n",
        "from google.colab import drive\n",
        "drive.mount('/content/drive')"
      ],
      "metadata": {
        "cellView": "form",
        "id": "OU-8-EDEkBmD"
      },
      "execution_count": null,
      "outputs": []
    },
    {
      "cell_type": "markdown",
      "source": [
        "<font color='red'><h1>Mediafire to Google Drive</font>"
      ],
      "metadata": {
        "id": "wO72NOR4lgg_"
      }
    },
    {
      "cell_type": "code",
      "source": [
        "#@markdown ### Mount Google Drive<br><h5>To stream files we need to mount Google Drive.\n",
        "from google.colab import drive\n",
        "drive.mount('/content/drive', force_remount=True)"
      ],
      "metadata": {
        "cellView": "form",
        "id": "WRwMukQTliMv"
      },
      "execution_count": null,
      "outputs": []
    },
    {
      "cell_type": "code",
      "source": [
        "#@markdown ### Install Mediafire-dl and Initialize Session\n",
        "!pip3 install git+https://github.com/Juvenal-Yescas/mediafire-dl"
      ],
      "metadata": {
        "cellView": "form",
        "id": "wpFeaQwQlsAP"
      },
      "execution_count": null,
      "outputs": []
    },
    {
      "cell_type": "code",
      "source": [
        "#@markdown ##Download <h5>Enter your Download Link & Output file name(with type)\n",
        "import mediafire_dl\n",
        "\n",
        "url = 'https://www.mediafire.com/file/fg6ip510iw3zeyq/MediaFire_-_Getting_Started.pdf/file'#@param {type:\"string\"}\n",
        "output = 'MediaFire_-_Getting_Started.pdf' #@param {type:\"string\"}\n",
        "DOWNLOAD_PATH = \"/content/drive/Mydrive\" #@param {type:\"string\"}\n",
        "mediafire_dl.download(url, output, quiet=False)\n",
        "!sudo cp -r -v \"/content/$output\" \"$DOWNLOAD_PATH\""
      ],
      "metadata": {
        "cellView": "form",
        "id": "BrCQ4NFUltH0"
      },
      "execution_count": null,
      "outputs": []
    },
    {
      "cell_type": "markdown",
      "source": [
        "<font color='red'><h1>Checking folders size in Google Drive</font>"
      ],
      "metadata": {
        "id": "xtgsEqQ0hdpU"
      }
    },
    {
      "cell_type": "code",
      "source": [
        "#@markdown ### Mount Google Drive To<br><h5> stream files we need to mount Google Drive.\n",
        "from google.colab import drive drive.mount('/content/drive')"
      ],
      "metadata": {
        "cellView": "form",
        "id": "EoyeYI29hkVF"
      },
      "execution_count": null,
      "outputs": []
    },
    {
      "cell_type": "code",
      "source": [
        "#@markdown ###Enter Your Folder Path To find out the Disk usage\n",
        "FOLDER_PATH = \"/content/drive/Shareddrives/1\" #@param {type:\"string\"}\n",
        "!ls -l \"$FOLDER_PATH\"\n",
        "!du -sh \"$FOLDER_PATH\""
      ],
      "metadata": {
        "cellView": "form",
        "id": "PyEDdb9Uhn49"
      },
      "execution_count": null,
      "outputs": []
    }
  ]
}